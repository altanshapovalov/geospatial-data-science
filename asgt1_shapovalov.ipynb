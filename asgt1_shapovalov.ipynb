{
 "cells": [
  {
   "cell_type": "markdown",
   "id": "b41e34a1",
   "metadata": {},
   "source": [
    "# Assignment 1 (Geog 590)\n",
    "\n",
    "## Maxim Altan-Lu Shapovalov (numinorix)\n",
    "\n",
    "### January 5, 2023"
   ]
  },
  {
   "cell_type": "markdown",
   "id": "0c693eec",
   "metadata": {},
   "source": [
    "1) import numpy(numerical python) and shorten its name to \"np\""
   ]
  },
  {
   "cell_type": "code",
   "execution_count": 2,
   "id": "c84e96ba",
   "metadata": {},
   "outputs": [],
   "source": [
    "import numpy as np"
   ]
  },
  {
   "cell_type": "markdown",
   "id": "4814c640",
   "metadata": {},
   "source": [
    "2.1) add 2 numbers (using numpy)"
   ]
  },
  {
   "cell_type": "code",
   "execution_count": 5,
   "id": "7bf2cbc7",
   "metadata": {
    "scrolled": true
   },
   "outputs": [
    {
     "data": {
      "text/plain": [
       "5"
      ]
     },
     "execution_count": 5,
     "metadata": {},
     "output_type": "execute_result"
    }
   ],
   "source": [
    "np.sum([2,3])"
   ]
  },
  {
   "cell_type": "markdown",
   "id": "c1485273",
   "metadata": {},
   "source": [
    "2.2) subtract 2 numbers"
   ]
  },
  {
   "cell_type": "code",
   "execution_count": 7,
   "id": "39036da4",
   "metadata": {
    "scrolled": true
   },
   "outputs": [
    {
     "data": {
      "text/plain": [
       "246"
      ]
     },
     "execution_count": 7,
     "metadata": {},
     "output_type": "execute_result"
    }
   ],
   "source": [
    "np.subtract(666,420)"
   ]
  },
  {
   "cell_type": "markdown",
   "id": "0841e1df",
   "metadata": {},
   "source": [
    "2.3) multiply 2 numbers"
   ]
  },
  {
   "cell_type": "code",
   "execution_count": 8,
   "id": "132aefbd",
   "metadata": {
    "scrolled": true
   },
   "outputs": [
    {
     "data": {
      "text/plain": [
       "276.32"
      ]
     },
     "execution_count": 8,
     "metadata": {},
     "output_type": "execute_result"
    }
   ],
   "source": [
    "np.multiply(3.14,88)"
   ]
  },
  {
   "cell_type": "markdown",
   "id": "f9c84fbb",
   "metadata": {},
   "source": [
    "3) Add an image of an inspirational place, as well as its link"
   ]
  },
  {
   "cell_type": "markdown",
   "id": "6fef183a",
   "metadata": {},
   "source": [
    "![The Berrics](http://skateparkoftampa.com/spot/images2011/dala13dsc_1887.jpg)\n",
    "\n",
    "**The Berrics**  \n",
    "*Click on image to get the link, or copy-paste this:*\n",
    "http://skateparkoftampa.com/spot/images2011/dala13dsc_1887.jpg"
   ]
  }
 ],
 "metadata": {
  "kernelspec": {
   "display_name": "Python 3 (ipykernel)",
   "language": "python",
   "name": "python3"
  },
  "language_info": {
   "codemirror_mode": {
    "name": "ipython",
    "version": 3
   },
   "file_extension": ".py",
   "mimetype": "text/x-python",
   "name": "python",
   "nbconvert_exporter": "python",
   "pygments_lexer": "ipython3",
   "version": "3.10.8"
  }
 },
 "nbformat": 4,
 "nbformat_minor": 5
}
